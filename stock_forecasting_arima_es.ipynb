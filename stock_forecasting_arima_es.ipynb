  {
   "cell_type": "code",
   "execution_count": 1,
   "id": "e5e73eb8",
   "metadata": {},
   "source": [
    "import pandas as pd\n",
    "import numpy as np\n",
    "import matplotlib.pyplot as plt\n",
    "import warnings\n",
    "warnings.filterwarnings(\"ignore\")\n",
    "\n",
    "from statsmodels.tsa.arima.model import ARIMA\n",
    "from statsmodels.tsa.holtwinters import ExponentialSmoothing\n",
    "from statsmodels.tsa.stattools import adfuller\n",
    "from sklearn.metrics import mean_squared_error, mean_absolute_error\n"
   ]
  },
  {
   "cell_type": "code",
   "execution_count": null,
   "id": "881a4ed6",
   "metadata": {},
   "outputs": [],
   "source": [
    "# Download historical stock prices from Yahoo Finance\n",
    "import yfinance as yf\n",
    "data = yf.download(\"AAPL\", start=\"2018-01-01\", end=\"2024-12-31\")\n",
    "df = data[['Close']]\n",
    "df.head()\n"
   ]
  },
  {
   "cell_type": "code",
   "execution_count": null,
   "id": "1f0f9e11",
   "metadata": {},
   "outputs": [],
   "source": [
    "train_size = int(len(df) * 0.85)\n",
    "train, test = df[:train_size], df[train_size:]\n"
   ]
  },
  {
   "cell_type": "code",
   "execution_count": null,
   "id": "e1d33567",
   "metadata": {},
   "outputs": [],
   "source": [
    "def adf_test(series):\n",
    "    result = adfuller(series)\n",
    "    print(f'ADF Statistic: {result[0]}')\n",
    "    print(f'p-value: {result[1]}')\n",
    "    if result[1] <= 0.05:\n",
    "        print(\"Data is stationary\")\n",
    "    else:\n",
    "        print(\"Data is non-stationary\")\n",
    "\n",
    "adf_test(train['Close'])\n"
   ]
  },
  {
   "cell_type": "code",
   "execution_count": null,
   "id": "d87bdd3c",
   "metadata": {},
   "outputs": [],
   "source": [
    "arima_model = ARIMA(train['Close'], order=(5,1,0))\n",
    "arima_fit = arima_model.fit()\n",
    "arima_pred = arima_fit.forecast(steps=len(test))\n"
   ]
  },
  {
   "cell_type": "code",
   "execution_count": null,
   "id": "33bd80b9",
   "metadata": {},
   "outputs": [],
   "source": [
    "es_model = ExponentialSmoothing(train['Close'], trend='add', seasonal=None)\n",
    "es_fit = es_model.fit()\n",
    "es_pred = es_fit.forecast(len(test))\n"
   ]
  },
  {
   "cell_type": "code",
   "execution_count": null,
   "id": "d9a425eb",
   "metadata": {},
   "outputs": [],
   "source": [
    "def evaluate(true, pred, model_name):\n",
    "    rmse = np.sqrt(mean_squared_error(true, pred))\n",
    "    mae = mean_absolute_error(true, pred)\n",
    "    print(f\"{model_name} -> RMSE: {rmse:.2f}, MAE: {mae:.2f}\")\n",
    "\n",
    "evaluate(test['Close'], arima_pred, \"ARIMA\")\n",
    "evaluate(test['Close'], es_pred, \"Exponential Smoothing\")\n"
   ]
  },
  {
   "cell_type": "code",
   "execution_count": null,
   "id": "2675b5ee",
   "metadata": {},
   "outputs": [],
   "source": [
    "plt.figure(figsize=(12,6))\n",
    "plt.plot(train['Close'], label='Train')\n",
    "plt.plot(test['Close'], label='Test')\n",
    "plt.plot(test.index, arima_pred, label='ARIMA Predictions', color='red')\n",
    "plt.plot(test.index, es_pred, label='Exponential Smoothing Predictions', color='green')\n",
    "plt.title(\"Stock Price Forecasting\")\n",
    "plt.xlabel(\"Date\")\n",
    "plt.ylabel(\"Price\")\n",
    "plt.legend()\n",
    "plt.show()\n"
   ]
  }
 ],
 "metadata": {
  "kernelspec": {
   "display_name": "Python 3",
   "language": "python",
   "name": "python3"
  },
  "language_info": {
   "codemirror_mode": {
    "name": "ipython",
    "version": 3
   },
   "file_extension": ".py",
   "mimetype": "text/x-python",
   "name": "python",
   "nbconvert_exporter": "python",
   "pygments_lexer": "ipython3",
   "version": "3.13.0"
  }
 },
 "nbformat": 4,
 "nbformat_minor": 5
}
